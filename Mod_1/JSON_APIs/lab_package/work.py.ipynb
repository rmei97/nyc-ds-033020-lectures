{
 "cells": [
  {
   "cell_type": "code",
   "execution_count": 3,
   "metadata": {},
   "outputs": [],
   "source": [
    "import numpy as np\n",
    "import pandas as pd"
   ]
  },
  {
   "cell_type": "code",
   "execution_count": 5,
   "metadata": {},
   "outputs": [],
   "source": [
    "#import and clean dataframe\n",
    "data_frame_test = pd.read_csv('yelp_lab_reviews.csv')\n",
    "# data_frame_test.rename(columns = {'total reviews':'business id','business id':'total reviews'},inplace = True)\n",
    "\n",
    "data_frame_test.columns #'Unnamed: 0'\n",
    "review_frame = data_frame_test.drop(['Unnamed: 0'], axis = 1)\n"
   ]
  },
  {
   "cell_type": "code",
   "execution_count": 13,
   "metadata": {},
   "outputs": [],
   "source": [
    "yelp_lab = pd.read_csv('yelp_lab.csv')\n",
    "business_frame = yelp_lab.drop(['Unnamed: 0'], axis = 1)"
   ]
  },
  {
   "cell_type": "code",
   "execution_count": 14,
   "metadata": {},
   "outputs": [],
   "source": [
    "fin_frame = pd.merge(business_frame, review_frame, how = 'left', on = 'Business ID')"
   ]
  },
  {
   "cell_type": "code",
   "execution_count": null,
   "metadata": {},
   "outputs": [],
   "source": [
    "#clean/remap price\n",
    "price_dict = {\n",
    "    '$' : 1,\n",
    "    '$$' : 2,\n",
    "    '$$$': 3,\n",
    "    np.nan: np.nan\n",
    "}\n",
    "\n",
    "fin_frame['Price'] = fin_frame['Price'].replace(price_dict)\n",
    "business_frame['Price'] = business_frame['Price'].replace(price_dict)"
   ]
  },
  {
   "cell_type": "markdown",
   "metadata": {},
   "source": [
    "## Questions\n",
    "\n",
    "    1) Which are the 5 most reviewed businesses?\n",
    "    2) What is the highest rating recieved in your data set and how many businesses have that rating?\n",
    "    3) What percentage of businesses have a rating greater than or 4.5?\n",
    "    4) What percentage of businesses have a rating less than 3?\n",
    "    5) What is the average rating of restaurants that have a price label of one dollar sign? Two dollar signs? Three dollar signs?\n",
    "    6) Return the text of the reviews for the most reviewed restaurant.\n",
    "    7) Return the name of the business with the most recent review.\n",
    "    8) Find the highest rated business and return text of the most recent review. If multiple business have the same rating, select the restaurant with the most reviews.\n",
    "    9) Find the lowest rated business and return text of the most recent review. If multiple business have the same rating, select the restaurant with the least reviews.\n"
   ]
  },
  {
   "cell_type": "code",
   "execution_count": 15,
   "metadata": {
    "collapsed": true
   },
   "outputs": [
    {
     "data": {
      "text/plain": [
       "['The Halal Guys',\n",
       " \"S'MAC\",\n",
       " 'Bengal Tiger Indian Food',\n",
       " 'Red Bamboo',\n",
       " 'by CHLOE']"
      ]
     },
     "execution_count": 15,
     "metadata": {},
     "output_type": "execute_result"
    }
   ],
   "source": [
    "#1 use combined frame\n",
    "list(fin_frame[['Total Reviews','Name']].sort_values(by = 'Total Reviews', ascending = False)['Name'].unique()[:5])"
   ]
  },
  {
   "cell_type": "code",
   "execution_count": null,
   "metadata": {},
   "outputs": [],
   "source": [
    "#2 use combined frame\n",
    "fin_frame[fin_frame['Rating'] == max(fin_frame['Rating'].values)]['Rating'].value_counts()"
   ]
  },
  {
   "cell_type": "code",
   "execution_count": null,
   "metadata": {},
   "outputs": [],
   "source": [
    "#3 use business frame only\n",
    "num_greater = business_frame[business_frame['Rating'] >= 4.5]['Name'].count() #90\n",
    "num_total = business_frame['Name'].count() #464\n",
    "percent = num_greater/num_total * 100\n",
    "percent #19.3966%"
   ]
  },
  {
   "cell_type": "code",
   "execution_count": null,
   "metadata": {},
   "outputs": [],
   "source": [
    "#4\n",
    "num_less = business_frame[business_frame['Rating'] < 3]['Name'].count() #24\n",
    "num_total = business_frame['Name'].count() #464\n",
    "percent = num_less/num_total * 100\n",
    "percent #19.3966%"
   ]
  },
  {
   "cell_type": "code",
   "execution_count": null,
   "metadata": {},
   "outputs": [],
   "source": [
    "#5\n",
    "#one dollar sign\n",
    "business_frame[business_frame['Price'] == 1]['Rating'].mean() #3.715\n",
    "#two dollar sign\n",
    "business_frame[business_frame['Price'] == 2]['Rating'].mean() #3.7969\n",
    "#three dollar sign\n",
    "business_frame[business_frame['Price'] == 3]['Rating'].mean() #3.6956\n",
    "#np.nan doesnt effect using mean method"
   ]
  },
  {
   "cell_type": "code",
   "execution_count": 16,
   "metadata": {
    "collapsed": true
   },
   "outputs": [
    {
     "data": {
      "text/plain": [
       "[\"First timing visiting early evening with few people ahead of us. \\n\\nWe have one in Toronto but this cart is something else. It's a loaded combo and the price...\",\n",
       " \"So, in light of what's happening in NYC with the Covid-19 pandemic, I thought this would be the perfect time to give NYC a lot of love. We vacationed here...\",\n",
       " 'We have The Halal Guys locations in my hometown, but of course we have to try the food truck version in NY! They are open late and it is sooo delicious...']"
      ]
     },
     "execution_count": 16,
     "metadata": {},
     "output_type": "execute_result"
    }
   ],
   "source": [
    "#6\n",
    "top_business_id = fin_frame[['Total Reviews','Review']].sort_values(by = 'Total Reviews', ascending = False).iloc[:3]['Review']\n",
    "list(top_business_id.values)"
   ]
  },
  {
   "cell_type": "code",
   "execution_count": null,
   "metadata": {},
   "outputs": [],
   "source": [
    "#7\n",
    "#convert string timestamps to actual timestamps\n",
    "fin_frame['Time'] = pd.to_datetime(fin_frame['Time'])\n",
    "fin_frame[['Name','Time']].sort_values(by = 'Time' ,ascending = False)['Name'].iloc[0]"
   ]
  },
  {
   "cell_type": "code",
   "execution_count": null,
   "metadata": {},
   "outputs": [],
   "source": [
    "#8) Find the highest rated business and return text of the most recent review. \n",
    "#   If multiple business have the same rating, select the restaurant with the most reviews.\n",
    "max_rating = max(business_frame['Rating'])\n",
    "max_frame = fin_frame[fin_frame['Rating'] == max_rating].sort_values(by = 'Total Reviews', ascending = False).iloc[:3]\n",
    "name = max_frame['Name'].unique()\n",
    "print(name)\n",
    "list(max_frame['Review'].values)"
   ]
  },
  {
   "cell_type": "code",
   "execution_count": null,
   "metadata": {},
   "outputs": [],
   "source": [
    "#9\n",
    "#Find the lowest rated business and return text of the most recent review.\n",
    "#If multiple business have the same rating, select the restaurant with the least reviews\n",
    "min_rating = min(business_frame['Rating'])\n",
    "min_frame = fin_frame[fin_frame['Rating'] == min_rating].sort_values(by = 'Total Reviews', ascending = True).iloc[:]\n",
    "min_frame"
   ]
  }
 ],
 "metadata": {
  "kernelspec": {
   "display_name": "Python 3",
   "language": "python",
   "name": "python3"
  },
  "language_info": {
   "codemirror_mode": {
    "name": "ipython",
    "version": 3
   },
   "file_extension": ".py",
   "mimetype": "text/x-python",
   "name": "python",
   "nbconvert_exporter": "python",
   "pygments_lexer": "ipython3",
   "version": "3.7.6"
  }
 },
 "nbformat": 4,
 "nbformat_minor": 4
}
