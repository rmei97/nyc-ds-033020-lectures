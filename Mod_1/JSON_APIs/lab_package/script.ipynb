{
 "cells": [
  {
   "cell_type": "markdown",
   "metadata": {},
   "source": [
    "# Make calls to two API yelp endpoints and store them into two CSVs"
   ]
  },
  {
   "cell_type": "code",
   "execution_count": 13,
   "metadata": {},
   "outputs": [],
   "source": [
    "import functions"
   ]
  },
  {
   "cell_type": "markdown",
   "metadata": {},
   "source": [
    "# Business ID Data"
   ]
  },
  {
   "cell_type": "code",
   "execution_count": null,
   "metadata": {},
   "outputs": [],
   "source": [
    "url =  'https://api.yelp.com/v3/businesses/search'\n",
    "\n",
    "headers = {\n",
    "        'Authorization': 'Bearer {}'.format(api_key),\n",
    "    }\n",
    "\n",
    "term = 'Indian Restaurants'\n",
    "\n",
    "location = 'New York New York'\n",
    "\n",
    "radius = 8500\n",
    "\n",
    "url_params = {\n",
    "                \"term\": term.replace(' ', '+'),\n",
    "                \"location\": location.replace(' ', '+'),\n",
    "                \"radius\" : radius,\n",
    "                \"limit\": 50,\n",
    "            }"
   ]
  },
  {
   "cell_type": "code",
   "execution_count": null,
   "metadata": {},
   "outputs": [],
   "source": [
    "csv_filename = 'yelp_lab.csv'\n",
    "make_or_clear_csv2(csv_filename)\n",
    "\n",
    "# create a variable  to keep track of which result you are in. \n",
    "cur = 0\n",
    "\n",
    "#set up a while loop to go through and grab the result \n",
    "while cur < 650:\n",
    "    #set the offset parameter to be where you currently are in the results \n",
    "    url_params['offset'] = cur\n",
    "    #make your API call with the new offset number\n",
    "    results = yelp_call(url_params, api_key)\n",
    "  #########  \n",
    "    #after you get your results you can now use your function to parse those results\n",
    "    parsed_results = parse_results(results)\n",
    "    \n",
    "    # use your function to insert your parsed results into the db\n",
    "    data_save(parsed_results, csv_filename)\n",
    "    #increment the counter by 50 to move on to the next results\n",
    "    cur += 50"
   ]
  },
  {
   "cell_type": "markdown",
   "metadata": {},
   "source": [
    "\n",
    "# Review Data"
   ]
  },
  {
   "cell_type": "code",
   "execution_count": null,
   "metadata": {},
   "outputs": [],
   "source": [
    "csv_filename2 = 'yelp_lab_reviews.csv'"
   ]
  },
  {
   "cell_type": "code",
   "execution_count": null,
   "metadata": {},
   "outputs": [],
   "source": [
    "bus_id_list = get_ids('yelp_lab.csv') #returns list\n",
    "make_or_clear_csv(csv_filename2)\n",
    "\n",
    "position = 0\n",
    "while position < len(bus_id_list):\n",
    "    for id_num in bus_id_list[position:]:\n",
    "            #random instances of KeyError when a get_review call returns json format of \"Internal Error from API\"\n",
    "            #try to execute lines, but if a key error, break and try again with saved position\n",
    "        try:\n",
    "            current_dict = {}\n",
    "            review_dictionary = get_reviews(id_num,api_key)\n",
    "            current_dict[id_num] = review_parse(review_dictionary)\n",
    "        except KeyError:\n",
    "            print('refreshing')\n",
    "            break\n",
    "            \n",
    "        parsed_results = []\n",
    "        for review in current_dict[id_num]:\n",
    "            review.append(id_num)\n",
    "#             review.append()\n",
    "            parsed_results.append(review)\n",
    "        save_reviews(parsed_results,csv_filename2)\n",
    "        print(position, end=' ') \n",
    "        position +=1\n",
    "print('Done')"
   ]
  }
 ],
 "metadata": {
  "kernelspec": {
   "display_name": "Python 3",
   "language": "python",
   "name": "python3"
  },
  "language_info": {
   "codemirror_mode": {
    "name": "ipython",
    "version": 3
   },
   "file_extension": ".py",
   "mimetype": "text/x-python",
   "name": "python",
   "nbconvert_exporter": "python",
   "pygments_lexer": "ipython3",
   "version": "3.7.6"
  }
 },
 "nbformat": 4,
 "nbformat_minor": 4
}
