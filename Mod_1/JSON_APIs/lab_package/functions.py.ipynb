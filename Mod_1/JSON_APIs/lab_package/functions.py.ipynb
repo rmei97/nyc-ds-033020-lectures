{
 "cells": [
  {
   "cell_type": "code",
   "execution_count": null,
   "metadata": {},
   "outputs": [],
   "source": [
    "import requests\n",
    "import json\n",
    "from keys import client_id, api_key\n",
    "import pandas as pd\n",
    "import os\n",
    "import seaborn as sns  #heatmap\n",
    "import numpy as np #for nan"
   ]
  },
  {
   "cell_type": "code",
   "execution_count": null,
   "metadata": {},
   "outputs": [],
   "source": [
    "def yelp_call(url_params, api_key):\n",
    "    url =  'https://api.yelp.com/v3/businesses/search'\n",
    "    headers = {\n",
    "        'Authorization': 'Bearer {}'.format(api_key),}\n",
    "    response = requests.get(url, headers=headers, params=url_params)\n",
    "    data = response.json()\n",
    "    return data"
   ]
  },
  {
   "cell_type": "code",
   "execution_count": null,
   "metadata": {},
   "outputs": [],
   "source": [
    "def parse_results(results):\n",
    "    parsed_results = []\n",
    "    for business in results['businesses']:\n",
    "        biz_list = [business['id'],\n",
    "                    business['name'], \n",
    "            ', '.join(business['location']['display_address']),business['rating']]\n",
    "        if 'price' in business.keys(): \n",
    "            biz_list.append(business['price'])\n",
    "        else: \n",
    "            biz_list.append('n/a')\n",
    "        parsed_results.append(biz_list)\n",
    "    return parsed_results"
   ]
  },
  {
   "cell_type": "code",
   "execution_count": null,
   "metadata": {},
   "outputs": [],
   "source": [
    "def data_save(parsed_results, csv_filename):\n",
    "    f = open(csv_filename)\n",
    "    columns = ['Business ID','Name','Address','Rating','Price',]\n",
    "    data = pd.read_csv(f, index_col = 0)\n",
    "    df1 = pd.DataFrame(data,columns=columns)\n",
    "    df2 = pd.DataFrame(parsed_results,columns=columns)\n",
    "    df3 = pd.concat([df1,df2])\n",
    "    df3.to_csv('yelp_lab.csv')\n",
    "    # your code to save the current results with all of the other results. \n",
    "    # I would save the data every time you pull 50 results\n",
    "    # in case something breaks in the process."
   ]
  },
  {
   "cell_type": "code",
   "execution_count": null,
   "metadata": {},
   "outputs": [],
   "source": [
    "#create new file\n",
    "def make_or_clear_business_csv(csv_filename):\n",
    "    #clear the stuff in csv except the header\n",
    "    headers = pd.DataFrame(columns = ['Business ID','Name','Address','Rating','Price'])\n",
    "    if os.path.exists(csv_filename):\n",
    "        #clear it\n",
    "        f = open(csv_filename, 'w')\n",
    "        f.truncate() #eviscerated\n",
    "        headers.to_csv(csv_filename, mode='a')\n",
    "    else:\n",
    "        headers.to_csv(csv_filename)"
   ]
  },
  {
   "cell_type": "markdown",
   "metadata": {},
   "source": [
    "# <h>Making review frame code<h>"
   ]
  },
  {
   "cell_type": "code",
   "execution_count": null,
   "metadata": {},
   "outputs": [],
   "source": [
    "# write Pandas code to pull back all of the business ids \n",
    "# you will need these ids to pull back the reviews for each restaurant\n",
    "def get_ids(csv_filename):\n",
    "    '''\n",
    "    Return the ID numbers of restaurants from given file\n",
    "    '''\n",
    "    file = open('yelp_lab.csv')\n",
    "    columns = ['Business ID','Name','Address','Rating','Price',]\n",
    "    business_data = pd.read_csv(file)\n",
    "    business_df = pd.DataFrame(business_data,columns=columns)\n",
    "    return business_df['Business ID'].values"
   ]
  },
  {
   "cell_type": "code",
   "execution_count": null,
   "metadata": {},
   "outputs": [],
   "source": [
    "def get_reviews(bus_id,api_key):\n",
    "    '''\n",
    "    Return dictionary of reviews\n",
    "    '''\n",
    "    dict_reviews = {}\n",
    "    url = 'https://api.yelp.com/v3/businesses/{}/reviews'.format(bus_id)\n",
    "    headers = {\n",
    "        'Authorization': 'Bearer {}'.format(api_key),\n",
    "    }\n",
    "    url_params = {'id' : bus_id}\n",
    "    results = requests.get(url, headers = headers, params = url_params)\n",
    "#     dict_reviews[bus_id] = results.json()\n",
    "    response = results.json()\n",
    "    return response"
   ]
  },
  {
   "cell_type": "code",
   "execution_count": null,
   "metadata": {},
   "outputs": [],
   "source": [
    "# Write a function to parse out the relevant information from the reviews\n",
    "def review_parse(result):\n",
    "    list_parsed_reviews = []\n",
    "    total = result['total']\n",
    "    for review in result['reviews']:\n",
    "        list_parsed_reviews_temp = [\n",
    "            review['text'],\n",
    "            review['rating'],\n",
    "            review['time_created'],\n",
    "            total\n",
    "        ]\n",
    "        list_parsed_reviews.append(list_parsed_reviews_temp)\n",
    "#         list_parsed_reviews.append(result['total'])\n",
    "    return list_parsed_reviews"
   ]
  },
  {
   "cell_type": "code",
   "execution_count": 1,
   "metadata": {},
   "outputs": [],
   "source": [
    "def save_reviews(parsed_results,csv_filename):\n",
    "    '''\n",
    "    parsed_resuls to dataframe, add the data\n",
    "    '''\n",
    "    columns = ['Review','Review Rating','Time','Total Reviews','Business ID']    \n",
    "    \n",
    "    parse_frame = pd.DataFrame(parsed_results,columns = columns)\n",
    "    \n",
    "    f = open(csv_filename)\n",
    "    original = pd.read_csv(f, index_col = 0)\n",
    "    original_dataframe = pd.DataFrame(original, columns = columns)\n",
    "    \n",
    "    updated = pd.concat([original_dataframe,parse_frame])\n",
    "    \n",
    "    updated.to_csv(csv_filename,index = False)"
   ]
  },
  {
   "cell_type": "code",
   "execution_count": null,
   "metadata": {},
   "outputs": [],
   "source": [
    "def make_or_clear_csv(csv_filename):\n",
    "    #clear the stuff in csv except the header\n",
    "    headers = pd.DataFrame(columns = ['Review','Review Rating','Time','Total Reviews','Business ID'])\n",
    "    if os.path.exists(csv_filename):\n",
    "        #clear it\n",
    "        f = open(csv_filename, 'w')\n",
    "        f.truncate() #eviscerated\n",
    "        headers.to_csv(csv_filename, mode='a')\n",
    "    else:\n",
    "        headers.to_csv(csv_filename)"
   ]
  }
 ],
 "metadata": {
  "kernelspec": {
   "display_name": "Python 3",
   "language": "python",
   "name": "python3"
  },
  "language_info": {
   "codemirror_mode": {
    "name": "ipython",
    "version": 3
   },
   "file_extension": ".py",
   "mimetype": "text/x-python",
   "name": "python",
   "nbconvert_exporter": "python",
   "pygments_lexer": "ipython3",
   "version": "3.7.6"
  }
 },
 "nbformat": 4,
 "nbformat_minor": 4
}
