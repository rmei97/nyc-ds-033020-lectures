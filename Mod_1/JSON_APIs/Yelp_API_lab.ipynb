{
 "cells": [
  {
   "cell_type": "markdown",
   "metadata": {},
   "source": [
    "# Yelp API - Lab\n",
    "\n",
    "\n",
    "\n",
    "## Introduction \n",
    "\n",
    "Now that we've seen how the Yelp API works, it's time to put those API and Pandas skills to work in order to do some basic business analysis! Taking things a step further, you'll also independently explore how to perform pagination in order to retrieve a full results set from the Yelp API!\n",
    "\n",
    "## Objectives\n",
    "\n",
    "You will be able to:\n",
    "* Create HTTP requests to get data from Yelp API\n",
    "* Parse HTTP responses and save the information in a csv\n",
    "* Perform pagination to retrieve troves of data!\n",
    "* Write Pandas code to answer questions about your data "
   ]
  },
  {
   "cell_type": "markdown",
   "metadata": {},
   "source": [
    "## Problem Introduction\n",
    "\n",
    "For this lab you will analyze the yelp data for a group of businesses to learn more about an industry. You will choose a type of business (Italian Restuarants, Nail Salons, Crossfit gyms) and a location to analyze. Then you will get data from the Yelp API, store that data in a SQL Database on AWS, and write queries to answer questions about the data. \n",
    "\n",
    "\n",
    "### Process:\n",
    "\n",
    "1. Read through the data questions and the API documentation to determine which pieces of information you need to pull from the Yelp API.\n",
    "\n",
    "2. Plan out what . One for the businesses and one for the reviews.\n",
    "\n",
    "3. Create code to:\n",
    "  - Perform a search of businesses using pagination\n",
    "  - Parse the API response for specific data points\n",
    "  - Save the data you pull as a csv\n",
    "\n",
    "4. Use the functions above in a loop that will paginate over the results to retrieve all of the results. \n",
    "\n",
    "5. Create functions to:\n",
    "  - Retrieve the reviews data of one business\n",
    "  - Parse the reviews response for specific review data\n",
    "  - Save the data you pull as a csv\n",
    "\n",
    "6. Take all of the business IDs from your business search, and  using the 3 Python functions you've created, run your business IDs through a loop to get the reviews for each business and save them in a csv.\n",
    "\n",
    "7. Write Pandas code to answer the following questions about your data.\n",
    "\n",
    "\n",
    "Bonus Steps:  \n",
    "- Place your helper functions in a package so that your final notebook only has the major steps listed.\n",
    "- Rewrite your business search functions to be able take an argument for the type of business you are searching for.\n",
    "- Add another group of businesses to your files.\n"
   ]
  },
  {
   "cell_type": "markdown",
   "metadata": {},
   "source": [
    " \n",
    "## Data Questions:\n",
    "\n",
    "- Which are the 5 most reviewed businesses?\n",
    "- What is the highest rating recieved in your data set and how many businesses have that rating?\n",
    "- What percentage of businesses have a rating greater than or  4.5?\n",
    "- What percentage of businesses have a rating less than 3?\n",
    "- What is the average rating of restaurants that have a price label of one dollar sign? Two dollar signs? Three dollar signs? \n",
    "- Return the text of the reviews for the most reviewed restaurant. \n",
    "- Return the name of the business with the most recent review. \n",
    "- Find the highest rated business and return text of the most recent review. If multiple business have the same rating, select the restaurant with the most reviews. \n",
    "- Find the lowest rated business and return text of the most recent review.  If multiple business have the same rating, select the restaurant with the least reviews. \n"
   ]
  },
  {
   "cell_type": "markdown",
   "metadata": {},
   "source": [
    "## Part 1 - Understanding your data and question\n",
    "\n",
    "Lok at the question and determine what data you will need to store in your database in order to answer the questions. Start to think about what tables will you want to create and what columns will you ahve for those tables. \n",
    "\n",
    "Look at the API documentation, and determine what fields of the API response you will match up with the columns you want in your Pandas Dataframes. \n",
    "\n",
    "\n",
    "https://www.yelp.com/developers/documentation/v3/get_started"
   ]
  },
  {
   "cell_type": "markdown",
   "metadata": {},
   "source": [
    "## Part 2 - Create ETL pipeline for the business data from the API\n",
    "\n",
    "Now that you know what data you need from the API, you want to write code that will execute a api call, parse those results and then insert the results into the DB.  \n",
    "\n",
    "It is helpful to break this up into three different functions (*api call, parse results, and insert into DB*) and then you can write a function/script that pull the other three functions together. \n",
    "\n",
    "Let's first do this for the Business endpoint."
   ]
  },
  {
   "cell_type": "code",
   "execution_count": 196,
   "metadata": {},
   "outputs": [],
   "source": [
    "import requests\n",
    "import json\n",
    "from keys import client_id, api_key\n",
    "import pandas as pd\n",
    "import os\n",
    "import seaborn as sns\n",
    "import numpy as np"
   ]
  },
  {
   "cell_type": "code",
   "execution_count": 148,
   "metadata": {},
   "outputs": [],
   "source": [
    "# Write a function to make a call to the yelp API\n",
    "url =  'https://api.yelp.com/v3/businesses/search'\n",
    "\n",
    "headers = {\n",
    "        'Authorization': 'Bearer {}'.format(api_key),\n",
    "    }\n",
    "\n",
    "term = 'Indian Restaurants'\n",
    "\n",
    "location = 'New York New York'\n",
    "\n",
    "radius = 8500\n",
    "\n",
    "url_params = {\n",
    "                \"term\": term.replace(' ', '+'),\n",
    "                \"location\": location.replace(' ', '+'),\n",
    "                \"radius\" : radius,\n",
    "                \"limit\": 50,\n",
    "            }\n",
    "\n",
    "def yelp_call(url_params, api_key):\n",
    "    url =  'https://api.yelp.com/v3/businesses/search'\n",
    "    headers = {\n",
    "        'Authorization': 'Bearer {}'.format(api_key),}\n",
    "    response = requests.get(url, headers=headers, params=url_params)\n",
    "    data = response.json()\n",
    "    return data"
   ]
  },
  {
   "cell_type": "code",
   "execution_count": 149,
   "metadata": {},
   "outputs": [],
   "source": [
    "# write a function to parse the API response \n",
    "\n",
    "def parse_results(results):\n",
    "    parsed_results = []\n",
    "    for business in results['businesses']:\n",
    "        biz_list = [business['id'],\n",
    "                    business['name'], \n",
    "            ', '.join(business['location']['display_address']),business['rating']]\n",
    "        if 'price' in business.keys(): \n",
    "            biz_list.append(business['price'])\n",
    "        else: \n",
    "            biz_list.append('n/a')\n",
    "        parsed_results.append(biz_list)\n",
    "    return parsed_results"
   ]
  },
  {
   "cell_type": "code",
   "execution_count": null,
   "metadata": {},
   "outputs": [],
   "source": [
    "# Write a function to take your parsed data and insert it into CSV\n",
    "# import pandas as pd\n",
    "# df = pd.DataFrame()"
   ]
  },
  {
   "cell_type": "code",
   "execution_count": null,
   "metadata": {},
   "outputs": [],
   "source": [
    "df.to_csv('yelp_lab.csv')"
   ]
  },
  {
   "cell_type": "code",
   "execution_count": 150,
   "metadata": {},
   "outputs": [],
   "source": [
    "def data_save(parsed_results, csv_filename):\n",
    "    f = open(csv_filename)\n",
    "    columns = ['Business ID','Name','Address','Rating','Price',]\n",
    "    data = pd.read_csv(f, index_col = 0)\n",
    "    df1 = pd.DataFrame(data,columns=columns)\n",
    "    df2 = pd.DataFrame(parsed_results,columns=columns)\n",
    "    df3 = pd.concat([df1,df2])\n",
    "    df3.to_csv('yelp_lab.csv')\n",
    "    # your code to save the current results with all of the other results. \n",
    "    # I would save the data every time you pull 50 results\n",
    "    # in case something breaks in the process."
   ]
  },
  {
   "cell_type": "code",
   "execution_count": null,
   "metadata": {},
   "outputs": [],
   "source": [
    "data_save(parse_results(data),'yelp_lab.csv')"
   ]
  },
  {
   "cell_type": "code",
   "execution_count": 154,
   "metadata": {},
   "outputs": [],
   "source": [
    "#create new file\n",
    "def make_or_clear_csv2(csv_filename):\n",
    "    #clear the stuff in csv except the header\n",
    "    headers = pd.DataFrame(columns = ['Business ID','Name','Address','Rating','Price'])\n",
    "    if os.path.exists(csv_filename):\n",
    "        #clear it\n",
    "        f = open(csv_filename, 'w')\n",
    "        f.truncate() #eviscerated\n",
    "        headers.to_csv(csv_filename, mode='a')\n",
    "    else:\n",
    "        headers.to_csv(csv_filename)\n",
    "\n",
    "csv_filename = 'yelp_lab.csv'\n",
    "make_or_clear_csv2(csv_filename)"
   ]
  },
  {
   "cell_type": "code",
   "execution_count": 155,
   "metadata": {},
   "outputs": [],
   "source": [
    "# Write a script that combines the three functions above into a single process.\n",
    "empty_df = pd.DataFrame()\n",
    "empty_df.to_csv('yelp_lab.csv')\n",
    "\n",
    "# create a variable  to keep track of which result you are in. \n",
    "cur = 0\n",
    "csv_filename = 'yelp_lab.csv'\n",
    "\n",
    "#set up a while loop to go through and grab the result \n",
    "while cur < 650:\n",
    "    #set the offset parameter to be where you currently are in the results \n",
    "    url_params['offset'] = cur\n",
    "    #make your API call with the new offset number\n",
    "    results = yelp_call(url_params, api_key)\n",
    "  #########  \n",
    "    #after you get your results you can now use your function to parse those results\n",
    "    parsed_results = parse_results(results)\n",
    "    \n",
    "    # use your function to insert your parsed results into the db\n",
    "    data_save(parsed_results, csv_filename)\n",
    "    #increment the counter by 50 to move on to the next results\n",
    "    cur += 50"
   ]
  },
  {
   "cell_type": "markdown",
   "metadata": {},
   "source": [
    "## Part 4 -  Create ETL pipeline for the restaurant review data from the API\n",
    "\n",
    "You've done this for the Businesses, now you need to do this for reviews. You will follow the same process, but your functions will be specific to reviews."
   ]
  },
  {
   "cell_type": "code",
   "execution_count": null,
   "metadata": {
    "scrolled": true
   },
   "outputs": [],
   "source": [
    "# file = open('yelp_lab.csv')\n",
    "# columns = ['Business ID','Name','Address','Rating','Price',]\n",
    "# business_data = pd.read_csv(file)\n",
    "# business_df = pd.DataFrame(business_data,columns=columns)\n",
    "\n",
    "# business_id = business_df['Business ID']\n",
    "# business_id.values #list of business IDs"
   ]
  },
  {
   "cell_type": "code",
   "execution_count": 156,
   "metadata": {
    "scrolled": true
   },
   "outputs": [],
   "source": [
    "# write Pandas code to pull back all of the business ids \n",
    "# you will need these ids to pull back the reviews for each restaurant\n",
    "def get_ids(csv_filename):\n",
    "    '''\n",
    "    Return the ID numbers of restaurants from given file\n",
    "    '''\n",
    "    file = open('yelp_lab.csv')\n",
    "    columns = ['Business ID','Name','Address','Rating','Price',]\n",
    "    business_data = pd.read_csv(file)\n",
    "    business_df = pd.DataFrame(business_data,columns=columns)\n",
    "    return business_df['Business ID'].values\n"
   ]
  },
  {
   "cell_type": "code",
   "execution_count": 157,
   "metadata": {},
   "outputs": [],
   "source": [
    "def get_reviews(bus_id,api_key):\n",
    "    '''\n",
    "    Return dictionary of reviews\n",
    "    '''\n",
    "    dict_reviews = {}\n",
    "    url = 'https://api.yelp.com/v3/businesses/{}/reviews'.format(bus_id)\n",
    "    headers = {\n",
    "        'Authorization': 'Bearer {}'.format(api_key),\n",
    "    }\n",
    "    url_params = {'id' : bus_id}\n",
    "    results = requests.get(url, headers = headers, params = url_params)\n",
    "#     dict_reviews[bus_id] = results.json()\n",
    "    response = results.json()\n",
    "    return response"
   ]
  },
  {
   "cell_type": "code",
   "execution_count": 30,
   "metadata": {
    "collapsed": true
   },
   "outputs": [
    {
     "data": {
      "text/plain": [
       "{'reviews': [{'id': 'NmHTQPQcab0KXKj97dAVJA',\n",
       "   'url': 'https://www.yelp.com/biz/the-masalawala-new-york-2?adjust_creative=Y8PxTsoIhnMmiPRmXB-Kqg&hrid=NmHTQPQcab0KXKj97dAVJA&utm_campaign=yelp_api_v3&utm_medium=api_v3_business_reviews&utm_source=Y8PxTsoIhnMmiPRmXB-Kqg',\n",
       "   'text': \"Quite possibly the best Indian food I've had in America. We enjoyed pretty much everything we ordered. I highly recommend the chicken biryani and the cheese...\",\n",
       "   'rating': 5,\n",
       "   'time_created': '2019-12-24 19:12:46',\n",
       "   'user': {'id': 'v-b1fKvclW_k9Qf0l_hi6Q',\n",
       "    'profile_url': 'https://www.yelp.com/user_details?userid=v-b1fKvclW_k9Qf0l_hi6Q',\n",
       "    'image_url': 'https://s3-media2.fl.yelpcdn.com/photo/9JDx3NMwcGDY4L_XrUlUQQ/o.jpg',\n",
       "    'name': 'Surashree K.'}},\n",
       "  {'id': 'hReNY3wgAFqyZ2KF04JIlw',\n",
       "   'url': 'https://www.yelp.com/biz/the-masalawala-new-york-2?adjust_creative=Y8PxTsoIhnMmiPRmXB-Kqg&hrid=hReNY3wgAFqyZ2KF04JIlw&utm_campaign=yelp_api_v3&utm_medium=api_v3_business_reviews&utm_source=Y8PxTsoIhnMmiPRmXB-Kqg',\n",
       "   'text': 'delish neighborhood delight with great variety.\\n\\n\\n\\n\\n\\n*auntieknowsbest',\n",
       "   'rating': 4,\n",
       "   'time_created': '2020-03-09 22:11:48',\n",
       "   'user': {'id': 'tm_6NJZ_ULQw2HJ4RYg6Ww',\n",
       "    'profile_url': 'https://www.yelp.com/user_details?userid=tm_6NJZ_ULQw2HJ4RYg6Ww',\n",
       "    'image_url': 'https://s3-media2.fl.yelpcdn.com/photo/F8lu_vONR6EjyGe1lgieTg/o.jpg',\n",
       "    'name': 'Sheila K.'}},\n",
       "  {'id': '0aL4C8oPtypue2xUu5bbyg',\n",
       "   'url': 'https://www.yelp.com/biz/the-masalawala-new-york-2?adjust_creative=Y8PxTsoIhnMmiPRmXB-Kqg&hrid=0aL4C8oPtypue2xUu5bbyg&utm_campaign=yelp_api_v3&utm_medium=api_v3_business_reviews&utm_source=Y8PxTsoIhnMmiPRmXB-Kqg',\n",
       "   'text': 'A okay hipster Indian spot in the LES.  Food was perfectly fine.  Spicy but not all that flavorful.  Very clean.  Medium portions that were fine for me.\\n\\nI...',\n",
       "   'rating': 3,\n",
       "   'time_created': '2020-01-19 05:53:56',\n",
       "   'user': {'id': 'kwLjniiYa1H57LwQX2TGIQ',\n",
       "    'profile_url': 'https://www.yelp.com/user_details?userid=kwLjniiYa1H57LwQX2TGIQ',\n",
       "    'image_url': 'https://s3-media1.fl.yelpcdn.com/photo/GfC4OGQor_5MvR0yx7uqkg/o.jpg',\n",
       "    'name': 'Li J.'}}],\n",
       " 'total': 1479,\n",
       " 'possible_languages': ['fr', 'de', 'nl', 'it', 'en']}"
      ]
     },
     "execution_count": 30,
     "metadata": {},
     "output_type": "execute_result"
    }
   ],
   "source": [
    "testing2 = get_reviews('sCC7-hSdCkNPExejZT9BAQ',api_key)\n",
    "testing2"
   ]
  },
  {
   "cell_type": "code",
   "execution_count": null,
   "metadata": {},
   "outputs": [],
   "source": [
    "testing = get_reviews('LaMbEoM5Vw9CQP5usaD2xA',api_key)"
   ]
  },
  {
   "cell_type": "code",
   "execution_count": 21,
   "metadata": {},
   "outputs": [
    {
     "ename": "NameError",
     "evalue": "name 'testing' is not defined",
     "output_type": "error",
     "traceback": [
      "\u001b[0;31m---------------------------------------------------------------------------\u001b[0m",
      "\u001b[0;31mNameError\u001b[0m                                 Traceback (most recent call last)",
      "\u001b[0;32m<ipython-input-21-9801739daae4>\u001b[0m in \u001b[0;36m<module>\u001b[0;34m\u001b[0m\n\u001b[0;32m----> 1\u001b[0;31m \u001b[0mtesting\u001b[0m\u001b[0;34m\u001b[0m\u001b[0;34m\u001b[0m\u001b[0m\n\u001b[0m",
      "\u001b[0;31mNameError\u001b[0m: name 'testing' is not defined"
     ]
    }
   ],
   "source": [
    "testing"
   ]
  },
  {
   "cell_type": "code",
   "execution_count": null,
   "metadata": {},
   "outputs": [],
   "source": [
    "testing['reviews']"
   ]
  },
  {
   "cell_type": "code",
   "execution_count": null,
   "metadata": {},
   "outputs": [],
   "source": [
    "review_parse(testing)"
   ]
  },
  {
   "cell_type": "code",
   "execution_count": 158,
   "metadata": {
    "scrolled": true
   },
   "outputs": [],
   "source": [
    "# Write a function to parse out the relevant information from the reviews\n",
    "def review_parse(result):\n",
    "    list_parsed_reviews = []\n",
    "    total = result['total']\n",
    "    for review in result['reviews']:\n",
    "        list_parsed_reviews_temp = [\n",
    "            review['text'],\n",
    "            review['rating'],\n",
    "            review['time_created'],\n",
    "            total\n",
    "        ]\n",
    "        list_parsed_reviews.append(list_parsed_reviews_temp)\n",
    "#         list_parsed_reviews.append(result['total'])\n",
    "    return list_parsed_reviews\n",
    "\n",
    "\n",
    "# function to insert parsed data into dataframe\n",
    "def save_reviews(parsed_results,csv_filename):\n",
    "    '''\n",
    "    parsed_resuls to dataframe, add the data\n",
    "    '''\n",
    "    columns = ['Review','Review Rating','Time','Total Reviews','Business ID']    \n",
    "    \n",
    "    parse_frame = pd.DataFrame(parsed_results,columns = columns)\n",
    "    \n",
    "    f = open(csv_filename)\n",
    "    original = pd.read_csv(f, index_col = 0)\n",
    "    original_dataframe = pd.DataFrame(original, columns = columns)\n",
    "    \n",
    "    updated = pd.concat([original_dataframe,parse_frame])\n",
    "    \n",
    "    updated.to_csv(csv_filename)\n",
    "    \n",
    "#     df = pd.DataFrame(parsed_results,columns=columns)\n",
    "#     df.to_csv(csv_filename, mode='a', header = False)"
   ]
  },
  {
   "cell_type": "code",
   "execution_count": 102,
   "metadata": {},
   "outputs": [],
   "source": [
    "def make_or_clear_csv(csv_filename):\n",
    "    #clear the stuff in csv except the header\n",
    "    headers = pd.DataFrame(columns = ['Review','Review Rating','Time','Total Reviews','Business ID'])\n",
    "    if os.path.exists(csv_filename):\n",
    "        #clear it\n",
    "        f = open(csv_filename, 'w')\n",
    "        f.truncate() #eviscerated\n",
    "        headers.to_csv(csv_filename, mode='a')\n",
    "    else:\n",
    "        headers.to_csv(csv_filename)"
   ]
  },
  {
   "cell_type": "code",
   "execution_count": 159,
   "metadata": {},
   "outputs": [],
   "source": [
    "csv_filename1 = 'yelp_lab.csv'\n",
    "csv_filename2 = 'yelp_lab_reviews.csv'\n",
    "# columns = ['Name','Address','Rating','Price','Business ID']\n",
    "# business_file = get_id(csv_filename)\n",
    "# business_df = pd.DataFrame(business_file,columns = columns) \n",
    "\n"
   ]
  },
  {
   "cell_type": "code",
   "execution_count": 160,
   "metadata": {
    "scrolled": false
   },
   "outputs": [
    {
     "name": "stdout",
     "output_type": "stream",
     "text": [
      "0 1 2 refreshing\n",
      "3 4 5 6 7 8 9 10 11 12 refreshing\n",
      "13 14 15 16 17 18 19 20 21 22 23 24 25 26 27 28 29 30 31 32 33 34 35 36 37 38 39 40 41 42 43 44 45 46 47 48 49 50 51 52 53 54 55 56 57 58 59 60 61 62 63 64 65 66 67 68 69 70 71 72 73 74 75 76 77 78 79 80 81 82 83 84 85 86 87 88 89 90 91 92 93 94 95 96 97 98 99 100 101 102 103 104 105 106 107 108 109 110 111 112 113 114 115 116 117 118 119 120 121 122 123 124 125 126 127 128 129 130 131 132 133 134 135 136 137 138 139 140 141 142 143 144 145 146 147 148 149 150 151 152 153 154 155 156 157 158 159 160 161 refreshing\n",
      "162 163 164 165 166 167 168 169 170 171 172 173 174 175 176 177 178 179 180 181 182 183 184 185 186 187 188 189 190 191 192 193 194 195 196 197 198 199 200 201 202 203 204 205 206 207 208 209 210 211 212 213 214 215 216 217 218 219 220 221 222 223 224 225 226 227 228 229 230 231 232 233 234 235 236 237 238 239 240 241 242 243 244 245 246 247 248 249 250 251 252 253 254 255 256 257 258 259 260 261 262 263 264 265 266 267 268 269 270 271 272 273 274 275 276 277 278 279 280 281 282 283 284 285 286 287 288 289 290 291 292 293 294 295 296 297 298 299 300 301 302 303 304 305 306 307 308 309 310 311 312 313 314 315 316 317 318 319 320 321 322 323 324 325 326 327 328 329 330 331 332 333 334 335 336 337 338 339 340 341 342 343 344 345 346 347 348 349 350 351 352 353 354 355 356 357 358 359 360 361 362 363 364 365 366 367 368 369 370 371 372 373 374 375 376 377 378 379 380 381 382 383 384 385 386 387 388 389 390 391 392 393 394 395 396 397 398 399 400 401 402 403 404 405 406 407 408 409 410 411 412 413 414 415 416 417 418 419 420 421 422 423 424 425 426 427 428 429 430 431 432 433 434 435 436 437 438 439 440 441 442 443 444 445 446 447 448 449 450 451 452 453 454 455 456 457 458 459 460 461 462 463 "
     ]
    }
   ],
   "source": [
    "bus_id_list = get_ids('yelp_lab.csv') #returns list\n",
    "make_or_clear_csv(csv_filename2)\n",
    "\n",
    "# counter = 0\n",
    "# while counter < len(bus_id_list):\n",
    "#     current_dict = {}\n",
    "#     for id_num in bus_id_list:\n",
    "#         review_dictionary = get_reviews(id_num,api_key)\n",
    "#         print(review_dictionary)\n",
    "#         current_dict[id_num[0]] = review_parse(review_dictionary)\n",
    "#         print(current_dict)\n",
    "#         save_reviews(current_dict,csv_filename2)\n",
    "#     counter += 1\n",
    "\n",
    "\n",
    "position = 0\n",
    "while position < len(bus_id_list):\n",
    "    for id_num in bus_id_list[position:]:\n",
    "            #random instances of KeyError when a get_review call returns json format of \"Internal Error from API\"\n",
    "            #try to execute lines, but if a key error, break and try again with saved position\n",
    "        try:\n",
    "            current_dict = {}\n",
    "            review_dictionary = get_reviews(id_num,api_key)\n",
    "            current_dict[id_num] = review_parse(review_dictionary)\n",
    "        except KeyError:\n",
    "            print('refreshing')\n",
    "            break\n",
    "            \n",
    "        parsed_results = []\n",
    "        for review in current_dict[id_num]:\n",
    "            review.append(id_num)\n",
    "#             review.append()\n",
    "            parsed_results.append(review)\n",
    "        save_reviews(parsed_results,csv_filename2)\n",
    "        print(position, end=' ') \n",
    "        position +=1\n",
    "print('Done')"
   ]
  },
  {
   "cell_type": "markdown",
   "metadata": {},
   "source": [
    "## Part 5 -  Write Pandas code that will answer the questions posed. \n",
    "\n",
    "Now that your data is saved in CSVs, you can answer the questions. "
   ]
  },
  {
   "cell_type": "code",
   "execution_count": null,
   "metadata": {},
   "outputs": [],
   "source": [
    "#import and clean dataframe\n",
    "data_frame_test = pd.read_csv('yelp_lab_reviews.csv')\n",
    "# data_frame_test.rename(columns = {'total reviews':'business id','business id':'total reviews'},inplace = True)\n",
    "\n",
    "data_frame_test.columns #'Unnamed: 0'\n",
    "review_frame = data_frame_test.drop(['Unnamed: 0'], axis = 1)\n"
   ]
  },
  {
   "cell_type": "code",
   "execution_count": 162,
   "metadata": {},
   "outputs": [
    {
     "data": {
      "text/html": [
       "<div>\n",
       "<style scoped>\n",
       "    .dataframe tbody tr th:only-of-type {\n",
       "        vertical-align: middle;\n",
       "    }\n",
       "\n",
       "    .dataframe tbody tr th {\n",
       "        vertical-align: top;\n",
       "    }\n",
       "\n",
       "    .dataframe thead th {\n",
       "        text-align: right;\n",
       "    }\n",
       "</style>\n",
       "<table border=\"1\" class=\"dataframe\">\n",
       "  <thead>\n",
       "    <tr style=\"text-align: right;\">\n",
       "      <th></th>\n",
       "      <th>Review</th>\n",
       "      <th>Review Rating</th>\n",
       "      <th>Time</th>\n",
       "      <th>Total Reviews</th>\n",
       "      <th>Business ID</th>\n",
       "    </tr>\n",
       "  </thead>\n",
       "  <tbody>\n",
       "    <tr>\n",
       "      <th>0</th>\n",
       "      <td>Quite possibly the best Indian food I've had i...</td>\n",
       "      <td>5</td>\n",
       "      <td>2019-12-24 19:12:46</td>\n",
       "      <td>1479</td>\n",
       "      <td>sCC7-hSdCkNPExejZT9BAQ</td>\n",
       "    </tr>\n",
       "    <tr>\n",
       "      <th>1</th>\n",
       "      <td>delish neighborhood delight with great variety...</td>\n",
       "      <td>4</td>\n",
       "      <td>2020-03-09 22:11:48</td>\n",
       "      <td>1479</td>\n",
       "      <td>sCC7-hSdCkNPExejZT9BAQ</td>\n",
       "    </tr>\n",
       "    <tr>\n",
       "      <th>2</th>\n",
       "      <td>A okay hipster Indian spot in the LES.  Food w...</td>\n",
       "      <td>3</td>\n",
       "      <td>2020-01-19 05:53:56</td>\n",
       "      <td>1479</td>\n",
       "      <td>sCC7-hSdCkNPExejZT9BAQ</td>\n",
       "    </tr>\n",
       "    <tr>\n",
       "      <th>3</th>\n",
       "      <td>This probably is the nicest and most consisten...</td>\n",
       "      <td>5</td>\n",
       "      <td>2020-03-08 17:19:47</td>\n",
       "      <td>771</td>\n",
       "      <td>HEs6llkn3wIP1ATXeIZQew</td>\n",
       "    </tr>\n",
       "    <tr>\n",
       "      <th>4</th>\n",
       "      <td>My husband loves Indian food. I have only had ...</td>\n",
       "      <td>4</td>\n",
       "      <td>2020-03-06 10:35:36</td>\n",
       "      <td>771</td>\n",
       "      <td>HEs6llkn3wIP1ATXeIZQew</td>\n",
       "    </tr>\n",
       "    <tr>\n",
       "      <th>...</th>\n",
       "      <td>...</td>\n",
       "      <td>...</td>\n",
       "      <td>...</td>\n",
       "      <td>...</td>\n",
       "      <td>...</td>\n",
       "    </tr>\n",
       "    <tr>\n",
       "      <th>1373</th>\n",
       "      <td>The $10 falafel sandwich with complimentary sa...</td>\n",
       "      <td>2</td>\n",
       "      <td>2019-12-06 07:42:54</td>\n",
       "      <td>104</td>\n",
       "      <td>8s5d0nkoNMgu9Oe066q_lg</td>\n",
       "    </tr>\n",
       "    <tr>\n",
       "      <th>1374</th>\n",
       "      <td>Unreal!  I asked someone for my office to pick...</td>\n",
       "      <td>1</td>\n",
       "      <td>2020-02-24 13:31:21</td>\n",
       "      <td>104</td>\n",
       "      <td>8s5d0nkoNMgu9Oe066q_lg</td>\n",
       "    </tr>\n",
       "    <tr>\n",
       "      <th>1375</th>\n",
       "      <td>I am obsessed with this place! My favorite lun...</td>\n",
       "      <td>5</td>\n",
       "      <td>2019-10-22 17:33:22</td>\n",
       "      <td>205</td>\n",
       "      <td>X_AQHQmY2pO_YHaojU_rMg</td>\n",
       "    </tr>\n",
       "    <tr>\n",
       "      <th>1376</th>\n",
       "      <td>This has to be the worst Just Salad ! The serv...</td>\n",
       "      <td>1</td>\n",
       "      <td>2020-02-10 09:39:08</td>\n",
       "      <td>205</td>\n",
       "      <td>X_AQHQmY2pO_YHaojU_rMg</td>\n",
       "    </tr>\n",
       "    <tr>\n",
       "      <th>1377</th>\n",
       "      <td>Not great.\\nI seek out this franchise througho...</td>\n",
       "      <td>3</td>\n",
       "      <td>2019-10-07 10:51:12</td>\n",
       "      <td>205</td>\n",
       "      <td>X_AQHQmY2pO_YHaojU_rMg</td>\n",
       "    </tr>\n",
       "  </tbody>\n",
       "</table>\n",
       "<p>1378 rows × 5 columns</p>\n",
       "</div>"
      ],
      "text/plain": [
       "                                                 Review  Review Rating  \\\n",
       "0     Quite possibly the best Indian food I've had i...              5   \n",
       "1     delish neighborhood delight with great variety...              4   \n",
       "2     A okay hipster Indian spot in the LES.  Food w...              3   \n",
       "3     This probably is the nicest and most consisten...              5   \n",
       "4     My husband loves Indian food. I have only had ...              4   \n",
       "...                                                 ...            ...   \n",
       "1373  The $10 falafel sandwich with complimentary sa...              2   \n",
       "1374  Unreal!  I asked someone for my office to pick...              1   \n",
       "1375  I am obsessed with this place! My favorite lun...              5   \n",
       "1376  This has to be the worst Just Salad ! The serv...              1   \n",
       "1377  Not great.\\nI seek out this franchise througho...              3   \n",
       "\n",
       "                     Time  Total Reviews             Business ID  \n",
       "0     2019-12-24 19:12:46           1479  sCC7-hSdCkNPExejZT9BAQ  \n",
       "1     2020-03-09 22:11:48           1479  sCC7-hSdCkNPExejZT9BAQ  \n",
       "2     2020-01-19 05:53:56           1479  sCC7-hSdCkNPExejZT9BAQ  \n",
       "3     2020-03-08 17:19:47            771  HEs6llkn3wIP1ATXeIZQew  \n",
       "4     2020-03-06 10:35:36            771  HEs6llkn3wIP1ATXeIZQew  \n",
       "...                   ...            ...                     ...  \n",
       "1373  2019-12-06 07:42:54            104  8s5d0nkoNMgu9Oe066q_lg  \n",
       "1374  2020-02-24 13:31:21            104  8s5d0nkoNMgu9Oe066q_lg  \n",
       "1375  2019-10-22 17:33:22            205  X_AQHQmY2pO_YHaojU_rMg  \n",
       "1376  2020-02-10 09:39:08            205  X_AQHQmY2pO_YHaojU_rMg  \n",
       "1377  2019-10-07 10:51:12            205  X_AQHQmY2pO_YHaojU_rMg  \n",
       "\n",
       "[1378 rows x 5 columns]"
      ]
     },
     "execution_count": 162,
     "metadata": {},
     "output_type": "execute_result"
    }
   ],
   "source": [
    "review_frame\n"
   ]
  },
  {
   "cell_type": "code",
   "execution_count": 163,
   "metadata": {},
   "outputs": [],
   "source": [
    "yelp_lab = pd.read_csv('yelp_lab.csv')\n",
    "business_frame = yelp_lab.drop(['Unnamed: 0'], axis = 1)"
   ]
  },
  {
   "cell_type": "code",
   "execution_count": 165,
   "metadata": {},
   "outputs": [
    {
     "data": {
      "text/html": [
       "<div>\n",
       "<style scoped>\n",
       "    .dataframe tbody tr th:only-of-type {\n",
       "        vertical-align: middle;\n",
       "    }\n",
       "\n",
       "    .dataframe tbody tr th {\n",
       "        vertical-align: top;\n",
       "    }\n",
       "\n",
       "    .dataframe thead th {\n",
       "        text-align: right;\n",
       "    }\n",
       "</style>\n",
       "<table border=\"1\" class=\"dataframe\">\n",
       "  <thead>\n",
       "    <tr style=\"text-align: right;\">\n",
       "      <th></th>\n",
       "      <th>Business ID</th>\n",
       "      <th>Name</th>\n",
       "      <th>Address</th>\n",
       "      <th>Rating</th>\n",
       "      <th>Price</th>\n",
       "    </tr>\n",
       "  </thead>\n",
       "  <tbody>\n",
       "    <tr>\n",
       "      <th>0</th>\n",
       "      <td>sCC7-hSdCkNPExejZT9BAQ</td>\n",
       "      <td>The MasalaWala</td>\n",
       "      <td>179 Essex St, New York, NY 10002</td>\n",
       "      <td>4.5</td>\n",
       "      <td>$$</td>\n",
       "    </tr>\n",
       "    <tr>\n",
       "      <th>1</th>\n",
       "      <td>HEs6llkn3wIP1ATXeIZQew</td>\n",
       "      <td>Pippali</td>\n",
       "      <td>129 E 27th St, New York, NY 10016</td>\n",
       "      <td>4.0</td>\n",
       "      <td>$$</td>\n",
       "    </tr>\n",
       "    <tr>\n",
       "      <th>2</th>\n",
       "      <td>kS2CP48K66yL2TwIhUqy_A</td>\n",
       "      <td>Tamarind</td>\n",
       "      <td>99 Hudson St, New York, NY 10013</td>\n",
       "      <td>4.0</td>\n",
       "      <td>$$$</td>\n",
       "    </tr>\n",
       "    <tr>\n",
       "      <th>3</th>\n",
       "      <td>9pMhRYYgV7E9L7pzECtJKA</td>\n",
       "      <td>The Drunken Munkey - UES</td>\n",
       "      <td>338 E 92nd St, New York, NY 10128</td>\n",
       "      <td>4.5</td>\n",
       "      <td>$$</td>\n",
       "    </tr>\n",
       "    <tr>\n",
       "      <th>4</th>\n",
       "      <td>_7BGw3YFNOTzP1Www3zB7g</td>\n",
       "      <td>Mughlai Grill</td>\n",
       "      <td>6 Clinton St, New York, NY 10002</td>\n",
       "      <td>4.5</td>\n",
       "      <td>$$</td>\n",
       "    </tr>\n",
       "    <tr>\n",
       "      <th>...</th>\n",
       "      <td>...</td>\n",
       "      <td>...</td>\n",
       "      <td>...</td>\n",
       "      <td>...</td>\n",
       "      <td>...</td>\n",
       "    </tr>\n",
       "    <tr>\n",
       "      <th>459</th>\n",
       "      <td>KxyH5zvTyXawl17lHjA4SQ</td>\n",
       "      <td>Beyond Sushi</td>\n",
       "      <td>134 West 37th St, New York, NY 10018</td>\n",
       "      <td>4.5</td>\n",
       "      <td>$$</td>\n",
       "    </tr>\n",
       "    <tr>\n",
       "      <th>460</th>\n",
       "      <td>EqZEbtu-91BdCPd4chXPVw</td>\n",
       "      <td>Magic Mix Juicery</td>\n",
       "      <td>102 Fulton St, New York, NY 10038</td>\n",
       "      <td>4.0</td>\n",
       "      <td>$$</td>\n",
       "    </tr>\n",
       "    <tr>\n",
       "      <th>461</th>\n",
       "      <td>FEhAl2T2UGwnsdvjLIQbQA</td>\n",
       "      <td>Just Salad</td>\n",
       "      <td>320 Park Ave, New York, NY 10020</td>\n",
       "      <td>3.0</td>\n",
       "      <td>$$</td>\n",
       "    </tr>\n",
       "    <tr>\n",
       "      <th>462</th>\n",
       "      <td>8s5d0nkoNMgu9Oe066q_lg</td>\n",
       "      <td>Kosher Deluxe</td>\n",
       "      <td>10 W 46th St, New York, NY 10036</td>\n",
       "      <td>3.0</td>\n",
       "      <td>$$</td>\n",
       "    </tr>\n",
       "    <tr>\n",
       "      <th>463</th>\n",
       "      <td>X_AQHQmY2pO_YHaojU_rMg</td>\n",
       "      <td>Just Salad</td>\n",
       "      <td>134 W 37th St, New York, NY 10018</td>\n",
       "      <td>3.0</td>\n",
       "      <td>$</td>\n",
       "    </tr>\n",
       "  </tbody>\n",
       "</table>\n",
       "<p>464 rows × 5 columns</p>\n",
       "</div>"
      ],
      "text/plain": [
       "                Business ID                      Name  \\\n",
       "0    sCC7-hSdCkNPExejZT9BAQ            The MasalaWala   \n",
       "1    HEs6llkn3wIP1ATXeIZQew                   Pippali   \n",
       "2    kS2CP48K66yL2TwIhUqy_A                  Tamarind   \n",
       "3    9pMhRYYgV7E9L7pzECtJKA  The Drunken Munkey - UES   \n",
       "4    _7BGw3YFNOTzP1Www3zB7g             Mughlai Grill   \n",
       "..                      ...                       ...   \n",
       "459  KxyH5zvTyXawl17lHjA4SQ              Beyond Sushi   \n",
       "460  EqZEbtu-91BdCPd4chXPVw         Magic Mix Juicery   \n",
       "461  FEhAl2T2UGwnsdvjLIQbQA                Just Salad   \n",
       "462  8s5d0nkoNMgu9Oe066q_lg             Kosher Deluxe   \n",
       "463  X_AQHQmY2pO_YHaojU_rMg                Just Salad   \n",
       "\n",
       "                                  Address  Rating Price  \n",
       "0        179 Essex St, New York, NY 10002     4.5    $$  \n",
       "1       129 E 27th St, New York, NY 10016     4.0    $$  \n",
       "2        99 Hudson St, New York, NY 10013     4.0   $$$  \n",
       "3       338 E 92nd St, New York, NY 10128     4.5    $$  \n",
       "4        6 Clinton St, New York, NY 10002     4.5    $$  \n",
       "..                                    ...     ...   ...  \n",
       "459  134 West 37th St, New York, NY 10018     4.5    $$  \n",
       "460     102 Fulton St, New York, NY 10038     4.0    $$  \n",
       "461      320 Park Ave, New York, NY 10020     3.0    $$  \n",
       "462      10 W 46th St, New York, NY 10036     3.0    $$  \n",
       "463     134 W 37th St, New York, NY 10018     3.0     $  \n",
       "\n",
       "[464 rows x 5 columns]"
      ]
     },
     "execution_count": 165,
     "metadata": {},
     "output_type": "execute_result"
    }
   ],
   "source": [
    "business_frame"
   ]
  },
  {
   "cell_type": "code",
   "execution_count": 164,
   "metadata": {},
   "outputs": [],
   "source": [
    "business_frame_backup = business_frame\n",
    "review_frame_backup = review_frame"
   ]
  },
  {
   "cell_type": "code",
   "execution_count": 168,
   "metadata": {
    "scrolled": true
   },
   "outputs": [
    {
     "data": {
      "text/html": [
       "<div>\n",
       "<style scoped>\n",
       "    .dataframe tbody tr th:only-of-type {\n",
       "        vertical-align: middle;\n",
       "    }\n",
       "\n",
       "    .dataframe tbody tr th {\n",
       "        vertical-align: top;\n",
       "    }\n",
       "\n",
       "    .dataframe thead th {\n",
       "        text-align: right;\n",
       "    }\n",
       "</style>\n",
       "<table border=\"1\" class=\"dataframe\">\n",
       "  <thead>\n",
       "    <tr style=\"text-align: right;\">\n",
       "      <th></th>\n",
       "      <th>Business ID</th>\n",
       "      <th>Name</th>\n",
       "      <th>Address</th>\n",
       "      <th>Rating</th>\n",
       "      <th>Price</th>\n",
       "      <th>Review</th>\n",
       "      <th>Review Rating</th>\n",
       "      <th>Time</th>\n",
       "      <th>Total Reviews</th>\n",
       "    </tr>\n",
       "  </thead>\n",
       "  <tbody>\n",
       "    <tr>\n",
       "      <th>0</th>\n",
       "      <td>sCC7-hSdCkNPExejZT9BAQ</td>\n",
       "      <td>The MasalaWala</td>\n",
       "      <td>179 Essex St, New York, NY 10002</td>\n",
       "      <td>4.5</td>\n",
       "      <td>$$</td>\n",
       "      <td>Quite possibly the best Indian food I've had i...</td>\n",
       "      <td>5</td>\n",
       "      <td>2019-12-24 19:12:46</td>\n",
       "      <td>1479</td>\n",
       "    </tr>\n",
       "    <tr>\n",
       "      <th>1</th>\n",
       "      <td>sCC7-hSdCkNPExejZT9BAQ</td>\n",
       "      <td>The MasalaWala</td>\n",
       "      <td>179 Essex St, New York, NY 10002</td>\n",
       "      <td>4.5</td>\n",
       "      <td>$$</td>\n",
       "      <td>delish neighborhood delight with great variety...</td>\n",
       "      <td>4</td>\n",
       "      <td>2020-03-09 22:11:48</td>\n",
       "      <td>1479</td>\n",
       "    </tr>\n",
       "    <tr>\n",
       "      <th>2</th>\n",
       "      <td>sCC7-hSdCkNPExejZT9BAQ</td>\n",
       "      <td>The MasalaWala</td>\n",
       "      <td>179 Essex St, New York, NY 10002</td>\n",
       "      <td>4.5</td>\n",
       "      <td>$$</td>\n",
       "      <td>A okay hipster Indian spot in the LES.  Food w...</td>\n",
       "      <td>3</td>\n",
       "      <td>2020-01-19 05:53:56</td>\n",
       "      <td>1479</td>\n",
       "    </tr>\n",
       "    <tr>\n",
       "      <th>3</th>\n",
       "      <td>HEs6llkn3wIP1ATXeIZQew</td>\n",
       "      <td>Pippali</td>\n",
       "      <td>129 E 27th St, New York, NY 10016</td>\n",
       "      <td>4.0</td>\n",
       "      <td>$$</td>\n",
       "      <td>This probably is the nicest and most consisten...</td>\n",
       "      <td>5</td>\n",
       "      <td>2020-03-08 17:19:47</td>\n",
       "      <td>771</td>\n",
       "    </tr>\n",
       "    <tr>\n",
       "      <th>4</th>\n",
       "      <td>HEs6llkn3wIP1ATXeIZQew</td>\n",
       "      <td>Pippali</td>\n",
       "      <td>129 E 27th St, New York, NY 10016</td>\n",
       "      <td>4.0</td>\n",
       "      <td>$$</td>\n",
       "      <td>My husband loves Indian food. I have only had ...</td>\n",
       "      <td>4</td>\n",
       "      <td>2020-03-06 10:35:36</td>\n",
       "      <td>771</td>\n",
       "    </tr>\n",
       "    <tr>\n",
       "      <th>...</th>\n",
       "      <td>...</td>\n",
       "      <td>...</td>\n",
       "      <td>...</td>\n",
       "      <td>...</td>\n",
       "      <td>...</td>\n",
       "      <td>...</td>\n",
       "      <td>...</td>\n",
       "      <td>...</td>\n",
       "      <td>...</td>\n",
       "    </tr>\n",
       "    <tr>\n",
       "      <th>1373</th>\n",
       "      <td>8s5d0nkoNMgu9Oe066q_lg</td>\n",
       "      <td>Kosher Deluxe</td>\n",
       "      <td>10 W 46th St, New York, NY 10036</td>\n",
       "      <td>3.0</td>\n",
       "      <td>$$</td>\n",
       "      <td>The $10 falafel sandwich with complimentary sa...</td>\n",
       "      <td>2</td>\n",
       "      <td>2019-12-06 07:42:54</td>\n",
       "      <td>104</td>\n",
       "    </tr>\n",
       "    <tr>\n",
       "      <th>1374</th>\n",
       "      <td>8s5d0nkoNMgu9Oe066q_lg</td>\n",
       "      <td>Kosher Deluxe</td>\n",
       "      <td>10 W 46th St, New York, NY 10036</td>\n",
       "      <td>3.0</td>\n",
       "      <td>$$</td>\n",
       "      <td>Unreal!  I asked someone for my office to pick...</td>\n",
       "      <td>1</td>\n",
       "      <td>2020-02-24 13:31:21</td>\n",
       "      <td>104</td>\n",
       "    </tr>\n",
       "    <tr>\n",
       "      <th>1375</th>\n",
       "      <td>X_AQHQmY2pO_YHaojU_rMg</td>\n",
       "      <td>Just Salad</td>\n",
       "      <td>134 W 37th St, New York, NY 10018</td>\n",
       "      <td>3.0</td>\n",
       "      <td>$</td>\n",
       "      <td>I am obsessed with this place! My favorite lun...</td>\n",
       "      <td>5</td>\n",
       "      <td>2019-10-22 17:33:22</td>\n",
       "      <td>205</td>\n",
       "    </tr>\n",
       "    <tr>\n",
       "      <th>1376</th>\n",
       "      <td>X_AQHQmY2pO_YHaojU_rMg</td>\n",
       "      <td>Just Salad</td>\n",
       "      <td>134 W 37th St, New York, NY 10018</td>\n",
       "      <td>3.0</td>\n",
       "      <td>$</td>\n",
       "      <td>This has to be the worst Just Salad ! The serv...</td>\n",
       "      <td>1</td>\n",
       "      <td>2020-02-10 09:39:08</td>\n",
       "      <td>205</td>\n",
       "    </tr>\n",
       "    <tr>\n",
       "      <th>1377</th>\n",
       "      <td>X_AQHQmY2pO_YHaojU_rMg</td>\n",
       "      <td>Just Salad</td>\n",
       "      <td>134 W 37th St, New York, NY 10018</td>\n",
       "      <td>3.0</td>\n",
       "      <td>$</td>\n",
       "      <td>Not great.\\nI seek out this franchise througho...</td>\n",
       "      <td>3</td>\n",
       "      <td>2019-10-07 10:51:12</td>\n",
       "      <td>205</td>\n",
       "    </tr>\n",
       "  </tbody>\n",
       "</table>\n",
       "<p>1378 rows × 9 columns</p>\n",
       "</div>"
      ],
      "text/plain": [
       "                 Business ID            Name  \\\n",
       "0     sCC7-hSdCkNPExejZT9BAQ  The MasalaWala   \n",
       "1     sCC7-hSdCkNPExejZT9BAQ  The MasalaWala   \n",
       "2     sCC7-hSdCkNPExejZT9BAQ  The MasalaWala   \n",
       "3     HEs6llkn3wIP1ATXeIZQew         Pippali   \n",
       "4     HEs6llkn3wIP1ATXeIZQew         Pippali   \n",
       "...                      ...             ...   \n",
       "1373  8s5d0nkoNMgu9Oe066q_lg   Kosher Deluxe   \n",
       "1374  8s5d0nkoNMgu9Oe066q_lg   Kosher Deluxe   \n",
       "1375  X_AQHQmY2pO_YHaojU_rMg      Just Salad   \n",
       "1376  X_AQHQmY2pO_YHaojU_rMg      Just Salad   \n",
       "1377  X_AQHQmY2pO_YHaojU_rMg      Just Salad   \n",
       "\n",
       "                                Address  Rating Price  \\\n",
       "0      179 Essex St, New York, NY 10002     4.5    $$   \n",
       "1      179 Essex St, New York, NY 10002     4.5    $$   \n",
       "2      179 Essex St, New York, NY 10002     4.5    $$   \n",
       "3     129 E 27th St, New York, NY 10016     4.0    $$   \n",
       "4     129 E 27th St, New York, NY 10016     4.0    $$   \n",
       "...                                 ...     ...   ...   \n",
       "1373   10 W 46th St, New York, NY 10036     3.0    $$   \n",
       "1374   10 W 46th St, New York, NY 10036     3.0    $$   \n",
       "1375  134 W 37th St, New York, NY 10018     3.0     $   \n",
       "1376  134 W 37th St, New York, NY 10018     3.0     $   \n",
       "1377  134 W 37th St, New York, NY 10018     3.0     $   \n",
       "\n",
       "                                                 Review  Review Rating  \\\n",
       "0     Quite possibly the best Indian food I've had i...              5   \n",
       "1     delish neighborhood delight with great variety...              4   \n",
       "2     A okay hipster Indian spot in the LES.  Food w...              3   \n",
       "3     This probably is the nicest and most consisten...              5   \n",
       "4     My husband loves Indian food. I have only had ...              4   \n",
       "...                                                 ...            ...   \n",
       "1373  The $10 falafel sandwich with complimentary sa...              2   \n",
       "1374  Unreal!  I asked someone for my office to pick...              1   \n",
       "1375  I am obsessed with this place! My favorite lun...              5   \n",
       "1376  This has to be the worst Just Salad ! The serv...              1   \n",
       "1377  Not great.\\nI seek out this franchise througho...              3   \n",
       "\n",
       "                     Time  Total Reviews  \n",
       "0     2019-12-24 19:12:46           1479  \n",
       "1     2020-03-09 22:11:48           1479  \n",
       "2     2020-01-19 05:53:56           1479  \n",
       "3     2020-03-08 17:19:47            771  \n",
       "4     2020-03-06 10:35:36            771  \n",
       "...                   ...            ...  \n",
       "1373  2019-12-06 07:42:54            104  \n",
       "1374  2020-02-24 13:31:21            104  \n",
       "1375  2019-10-22 17:33:22            205  \n",
       "1376  2020-02-10 09:39:08            205  \n",
       "1377  2019-10-07 10:51:12            205  \n",
       "\n",
       "[1378 rows x 9 columns]"
      ]
     },
     "execution_count": 168,
     "metadata": {},
     "output_type": "execute_result"
    }
   ],
   "source": [
    "                                                                        #merge left and right to one variable\n",
    "fin_frame = pd.merge(business_frame, review_frame, how = 'left', on = 'Business ID')\n",
    "fin_frame"
   ]
  },
  {
   "cell_type": "code",
   "execution_count": 129,
   "metadata": {},
   "outputs": [],
   "source": [
    "# fin_frame1 = fin_frame.rename(columns = {'rating': 'Review Rating'})"
   ]
  },
  {
   "cell_type": "code",
   "execution_count": 138,
   "metadata": {
    "collapsed": true
   },
   "outputs": [
    {
     "data": {
      "text/html": [
       "<div>\n",
       "<style scoped>\n",
       "    .dataframe tbody tr th:only-of-type {\n",
       "        vertical-align: middle;\n",
       "    }\n",
       "\n",
       "    .dataframe tbody tr th {\n",
       "        vertical-align: top;\n",
       "    }\n",
       "\n",
       "    .dataframe thead th {\n",
       "        text-align: right;\n",
       "    }\n",
       "</style>\n",
       "<table border=\"1\" class=\"dataframe\">\n",
       "  <thead>\n",
       "    <tr style=\"text-align: right;\">\n",
       "      <th></th>\n",
       "      <th>Business ID</th>\n",
       "      <th>Name</th>\n",
       "      <th>Address</th>\n",
       "      <th>Rating</th>\n",
       "      <th>Price</th>\n",
       "      <th>review</th>\n",
       "      <th>Review Rating</th>\n",
       "      <th>time</th>\n",
       "      <th>total reviews</th>\n",
       "      <th>business id</th>\n",
       "    </tr>\n",
       "  </thead>\n",
       "  <tbody>\n",
       "    <tr>\n",
       "      <th>0</th>\n",
       "      <td>sCC7-hSdCkNPExejZT9BAQ</td>\n",
       "      <td>The MasalaWala</td>\n",
       "      <td>179 Essex St, New York, NY 10002</td>\n",
       "      <td>4.5</td>\n",
       "      <td>$$</td>\n",
       "      <td>Quite possibly the best Indian food I've had i...</td>\n",
       "      <td>5</td>\n",
       "      <td>2019-12-24 19:12:46</td>\n",
       "      <td>1479</td>\n",
       "      <td>sCC7-hSdCkNPExejZT9BAQ</td>\n",
       "    </tr>\n",
       "  </tbody>\n",
       "</table>\n",
       "</div>"
      ],
      "text/plain": [
       "              Business ID            Name                           Address  \\\n",
       "0  sCC7-hSdCkNPExejZT9BAQ  The MasalaWala  179 Essex St, New York, NY 10002   \n",
       "\n",
       "   Rating Price                                             review  \\\n",
       "0     4.5    $$  Quite possibly the best Indian food I've had i...   \n",
       "\n",
       "   Review Rating                 time  total reviews             business id  \n",
       "0              5  2019-12-24 19:12:46           1479  sCC7-hSdCkNPExejZT9BAQ  "
      ]
     },
     "execution_count": 138,
     "metadata": {},
     "output_type": "execute_result"
    }
   ],
   "source": [
    "# fin_frame = fin_frame1\n",
    "# fin_frame.head(1)"
   ]
  },
  {
   "cell_type": "markdown",
   "metadata": {},
   "source": [
    "<b>Questions<b>\n",
    "\n",
    "    1) Which are the 5 most reviewed businesses?\n",
    "    2) What is the highest rating recieved in your data set and how many businesses have that rating?\n",
    "    3) What percentage of businesses have a rating greater than or 4.5?\n",
    "    4) What percentage of businesses have a rating less than 3?\n",
    "    5) What is the average rating of restaurants that have a price label of one dollar sign? Two dollar signs? Three dollar signs?\n",
    "    6) Return the text of the reviews for the most reviewed restaurant.\n",
    "    7) Return the name of the business with the most recent review.\n",
    "    8) Find the highest rated business and return text of the most recent review. If multiple business have the same rating, select the restaurant with the most reviews.\n",
    "    9) Find the lowest rated business and return text of the most recent review. If multiple business have the same rating, select the restaurant with the least reviews.\n"
   ]
  },
  {
   "cell_type": "code",
   "execution_count": 174,
   "metadata": {},
   "outputs": [
    {
     "data": {
      "text/plain": [
       "['The Halal Guys',\n",
       " \"S'MAC\",\n",
       " 'Bengal Tiger Indian Food',\n",
       " 'Red Bamboo',\n",
       " 'by CHLOE']"
      ]
     },
     "execution_count": 174,
     "metadata": {},
     "output_type": "execute_result"
    }
   ],
   "source": [
    "#1 use combined frame\n",
    "list(fin_frame[['Total Reviews','Name']].sort_values(by = 'Total Reviews', ascending = False)['Name'].unique()[:5])"
   ]
  },
  {
   "cell_type": "code",
   "execution_count": 175,
   "metadata": {},
   "outputs": [
    {
     "data": {
      "text/plain": [
       "5.0    18\n",
       "Name: Rating, dtype: int64"
      ]
     },
     "execution_count": 175,
     "metadata": {},
     "output_type": "execute_result"
    }
   ],
   "source": [
    "#2 use combined frame\n",
    "fin_frame[fin_frame['Rating'] == max(fin_frame['Rating'].values)]['Rating'].value_counts()"
   ]
  },
  {
   "cell_type": "code",
   "execution_count": 193,
   "metadata": {},
   "outputs": [
    {
     "data": {
      "text/plain": [
       "90"
      ]
     },
     "execution_count": 193,
     "metadata": {},
     "output_type": "execute_result"
    }
   ],
   "source": [
    "#3 use business frame only\n",
    "num_greater = business_frame[business_frame['Rating'] >= 4.5]['Name'].count() #90\n",
    "num_total = business_frame['Name'].count() #464\n",
    "percent = num_greater/num_total * 100\n",
    "percent #19.3966%"
   ]
  },
  {
   "cell_type": "code",
   "execution_count": 195,
   "metadata": {},
   "outputs": [
    {
     "data": {
      "text/plain": [
       "24"
      ]
     },
     "execution_count": 195,
     "metadata": {},
     "output_type": "execute_result"
    }
   ],
   "source": [
    "#4\n",
    "num_less = business_frame[business_frame['Rating'] < 3]['Name'].count() #24\n",
    "num_total = business_frame['Name'].count() #464\n",
    "percent = num_less/num_total * 100\n",
    "percent #19.3966%\n",
    "num_less"
   ]
  },
  {
   "cell_type": "code",
   "execution_count": null,
   "metadata": {},
   "outputs": [],
   "source": [
    "fig = sns.heatmap(fin_frame.isnull())\n",
    "# only missing some prices"
   ]
  },
  {
   "cell_type": "code",
   "execution_count": 201,
   "metadata": {},
   "outputs": [],
   "source": [
    "#clean/remap price\n",
    "price_dict = {\n",
    "    '$' : 1,\n",
    "    '$$' : 2,\n",
    "    '$$$': 3,\n",
    "    np.nan: np.nan\n",
    "}\n",
    "\n",
    "fin_frame['Price'] = fin_frame['Price'].replace(price_dict)\n",
    "business_frame['Price'] = business_frame['Price'].replace(price_dict)"
   ]
  },
  {
   "cell_type": "code",
   "execution_count": 205,
   "metadata": {},
   "outputs": [
    {
     "data": {
      "text/plain": [
       "3.6956521739130435"
      ]
     },
     "execution_count": 205,
     "metadata": {},
     "output_type": "execute_result"
    }
   ],
   "source": [
    "#5\n",
    "#one dollar sign\n",
    "business_frame[business_frame['Price'] == 1]['Rating'].mean() #3.715\n",
    "#two dollar sign\n",
    "business_frame[business_frame['Price'] == 2]['Rating'].mean() #3.7969\n",
    "#three dollar sign\n",
    "business_frame[business_frame['Price'] == 3]['Rating'].mean() #3.6956\n",
    "#np.nan doesnt effect using mean method"
   ]
  },
  {
   "cell_type": "code",
   "execution_count": 235,
   "metadata": {},
   "outputs": [
    {
     "data": {
      "text/plain": [
       "[\"First timing visiting early evening with few people ahead of us. \\n\\nWe have one in Toronto but this cart is something else. It's a loaded combo and the price...\",\n",
       " \"So, in light of what's happening in NYC with the Covid-19 pandemic, I thought this would be the perfect time to give NYC a lot of love. We vacationed here...\",\n",
       " 'We have The Halal Guys locations in my hometown, but of course we have to try the food truck version in NY! They are open late and it is sooo delicious...']"
      ]
     },
     "execution_count": 235,
     "metadata": {},
     "output_type": "execute_result"
    }
   ],
   "source": [
    "#6\n",
    "top_business_id = fin_frame[['Total Reviews','Review']].sort_values(by = 'Total Reviews', ascending = False).iloc[:3]['Review']\n",
    "list(top_business_id.values)"
   ]
  },
  {
   "cell_type": "code",
   "execution_count": 236,
   "metadata": {},
   "outputs": [],
   "source": [
    "#7\n",
    "#convert string timestamps to actual timestamps\n",
    "fin_frame['Time'] = pd.to_datetime(fin_frame['Time'])"
   ]
  },
  {
   "cell_type": "code",
   "execution_count": 262,
   "metadata": {},
   "outputs": [
    {
     "data": {
      "text/plain": [
       "'Bunna Cafe'"
      ]
     },
     "execution_count": 262,
     "metadata": {},
     "output_type": "execute_result"
    }
   ],
   "source": [
    "fin_frame[['Name','Time']].sort_values(by = 'Time' ,ascending = False)['Name'].iloc[0]"
   ]
  },
  {
   "cell_type": "code",
   "execution_count": 304,
   "metadata": {},
   "outputs": [
    {
     "name": "stdout",
     "output_type": "stream",
     "text": [
      "['Royal Grill Halal Food']\n"
     ]
    },
    {
     "data": {
      "text/plain": [
       "['Quality & delicious food on budget! I was introduced to this food cart by one of my colleagues when I moved to work at midtown. I was new to the cart food...',\n",
       " 'Street food at 3am? A trip to New York almost guarantees it. Hopping off the train and walking to the hotel, a friend recommended this particular...',\n",
       " 'Believe the reviews. This place is great-?taste, value, vibe. I love Indian food; spent a year in North India developing this taste. And, this guy brings me...']"
      ]
     },
     "execution_count": 304,
     "metadata": {},
     "output_type": "execute_result"
    }
   ],
   "source": [
    "#8) Find the highest rated business and return text of the most recent review. \n",
    "#   If multiple business have the same rating, select the restaurant with the most reviews.\n",
    "max_rating = max(business_frame['Rating'])\n",
    "max_frame = fin_frame[fin_frame['Rating'] == max_rating].sort_values(by = 'Total Reviews', ascending = False).iloc[:3]\n",
    "name = max_frame['Name'].unique()\n",
    "print(name)\n",
    "list(max_frame['Review'].values)"
   ]
  },
  {
   "cell_type": "code",
   "execution_count": 308,
   "metadata": {},
   "outputs": [
    {
     "data": {
      "text/html": [
       "<div>\n",
       "<style scoped>\n",
       "    .dataframe tbody tr th:only-of-type {\n",
       "        vertical-align: middle;\n",
       "    }\n",
       "\n",
       "    .dataframe tbody tr th {\n",
       "        vertical-align: top;\n",
       "    }\n",
       "\n",
       "    .dataframe thead th {\n",
       "        text-align: right;\n",
       "    }\n",
       "</style>\n",
       "<table border=\"1\" class=\"dataframe\">\n",
       "  <thead>\n",
       "    <tr style=\"text-align: right;\">\n",
       "      <th></th>\n",
       "      <th>Business ID</th>\n",
       "      <th>Name</th>\n",
       "      <th>Address</th>\n",
       "      <th>Rating</th>\n",
       "      <th>Price</th>\n",
       "      <th>Review</th>\n",
       "      <th>Review Rating</th>\n",
       "      <th>Time</th>\n",
       "      <th>Total Reviews</th>\n",
       "    </tr>\n",
       "  </thead>\n",
       "  <tbody>\n",
       "    <tr>\n",
       "      <th>1287</th>\n",
       "      <td>85123ck6ZQF5-4rTQbDHjA</td>\n",
       "      <td>Hurry &amp; Tasty Curry</td>\n",
       "      <td>133 E 45th St, New York, NY 10017</td>\n",
       "      <td>1.0</td>\n",
       "      <td>1</td>\n",
       "      <td>Hurry &amp; Tasty thrives on its delivery service ...</td>\n",
       "      <td>1</td>\n",
       "      <td>2007-02-22 20:02:52</td>\n",
       "      <td>2</td>\n",
       "    </tr>\n",
       "    <tr>\n",
       "      <th>1288</th>\n",
       "      <td>85123ck6ZQF5-4rTQbDHjA</td>\n",
       "      <td>Hurry &amp; Tasty Curry</td>\n",
       "      <td>133 E 45th St, New York, NY 10017</td>\n",
       "      <td>1.0</td>\n",
       "      <td>1</td>\n",
       "      <td>If this place had any redeeming qualities, I w...</td>\n",
       "      <td>1</td>\n",
       "      <td>2007-02-17 11:43:41</td>\n",
       "      <td>2</td>\n",
       "    </tr>\n",
       "    <tr>\n",
       "      <th>1298</th>\n",
       "      <td>GgVSxkEzFRyAorxuODA1tQ</td>\n",
       "      <td>Masala Indian Cuisine</td>\n",
       "      <td>789 Newark Ave, Jersey City, NJ 07306</td>\n",
       "      <td>1.0</td>\n",
       "      <td>NaN</td>\n",
       "      <td>Where do I start?\\n\\nFirst, an hour and a half...</td>\n",
       "      <td>1</td>\n",
       "      <td>2016-04-30 16:01:57</td>\n",
       "      <td>2</td>\n",
       "    </tr>\n",
       "    <tr>\n",
       "      <th>1299</th>\n",
       "      <td>GgVSxkEzFRyAorxuODA1tQ</td>\n",
       "      <td>Masala Indian Cuisine</td>\n",
       "      <td>789 Newark Ave, Jersey City, NJ 07306</td>\n",
       "      <td>1.0</td>\n",
       "      <td>NaN</td>\n",
       "      <td>Ordered through seamless and probably the wors...</td>\n",
       "      <td>1</td>\n",
       "      <td>2016-03-19 13:54:50</td>\n",
       "      <td>2</td>\n",
       "    </tr>\n",
       "  </tbody>\n",
       "</table>\n",
       "</div>"
      ],
      "text/plain": [
       "                 Business ID                   Name  \\\n",
       "1287  85123ck6ZQF5-4rTQbDHjA    Hurry & Tasty Curry   \n",
       "1288  85123ck6ZQF5-4rTQbDHjA    Hurry & Tasty Curry   \n",
       "1298  GgVSxkEzFRyAorxuODA1tQ  Masala Indian Cuisine   \n",
       "1299  GgVSxkEzFRyAorxuODA1tQ  Masala Indian Cuisine   \n",
       "\n",
       "                                    Address  Rating Price  \\\n",
       "1287      133 E 45th St, New York, NY 10017     1.0     1   \n",
       "1288      133 E 45th St, New York, NY 10017     1.0     1   \n",
       "1298  789 Newark Ave, Jersey City, NJ 07306     1.0   NaN   \n",
       "1299  789 Newark Ave, Jersey City, NJ 07306     1.0   NaN   \n",
       "\n",
       "                                                 Review  Review Rating  \\\n",
       "1287  Hurry & Tasty thrives on its delivery service ...              1   \n",
       "1288  If this place had any redeeming qualities, I w...              1   \n",
       "1298  Where do I start?\\n\\nFirst, an hour and a half...              1   \n",
       "1299  Ordered through seamless and probably the wors...              1   \n",
       "\n",
       "                    Time  Total Reviews  \n",
       "1287 2007-02-22 20:02:52              2  \n",
       "1288 2007-02-17 11:43:41              2  \n",
       "1298 2016-04-30 16:01:57              2  \n",
       "1299 2016-03-19 13:54:50              2  "
      ]
     },
     "execution_count": 308,
     "metadata": {},
     "output_type": "execute_result"
    }
   ],
   "source": [
    "#9\n",
    "#Find the lowest rated business and return text of the most recent review.\n",
    "#If multiple business have the same rating, select the restaurant with the least reviews\n",
    "min_rating = min(business_frame['Rating'])\n",
    "min_frame = fin_frame[fin_frame['Rating'] == min_rating].sort_values(by = 'Total Reviews', ascending = True).iloc[:]\n",
    "min_frame"
   ]
  },
  {
   "cell_type": "code",
   "execution_count": 312,
   "metadata": {},
   "outputs": [
    {
     "data": {
      "text/plain": [
       "0    3.0\n",
       "dtype: float64"
      ]
     },
     "execution_count": 312,
     "metadata": {},
     "output_type": "execute_result"
    }
   ],
   "source": [
    "tester = pd.DataFrame([4,2,np.nan])\n",
    "tester.mean()"
   ]
  },
  {
   "cell_type": "markdown",
   "metadata": {},
   "source": [
    "# Extra Reference help"
   ]
  },
  {
   "cell_type": "markdown",
   "metadata": {},
   "source": [
    "###  Pagination\n",
    "\n",
    "Returning to the Yelp API, the [documentation](https://www.yelp.com/developers/documentation/v3/business_search) also provides us details regarding the API limits. These often include details about the number of requests a user is allowed to make within a specified time limit and the maximum number of results to be returned. In this case, we are told that any request has a maximum of 50 results per request and defaults to 20. Furthermore, any search will be limited to a total of 1000 results. To retrieve all 1000 of these results, we would have to page through the results piece by piece, retriving 50 at a time. Processes such as these are often refered to as pagination.\n",
    "\n",
    "Now that you have an initial response, you can examine the contents of the json container. For example, you might start with ```response.json().keys()```. Here, you'll see a key for `'total'`, which tells you the full number of matching results given your query parameters. Write a loop (or ideally a function) which then makes successive API calls using the offset parameter to retrieve all of the results (or 5000 for a particularly large result set) for the original query. As you do this, be mindful of how you store the data. \n",
    "\n",
    "**Note: be mindful of the API rate limits. You can only make 5000 requests per day, and APIs can make requests too fast. Start prototyping small before running a loop that could be faulty. You can also use time.sleep(n) to add delays. For more details see https://www.yelp.com/developers/documentation/v3/rate_limiting.**"
   ]
  },
  {
   "cell_type": "markdown",
   "metadata": {},
   "source": [
    "***Below is sample code that you can use to help you deal with the pagination parameter and bring all of the functions together.***\n",
    "\n",
    "\n",
    "***Also, something might cause your code to break while it is running. You don't want to constantly repull the same data when this happens, so you should insert the data into the database as you call and parse it, not after you have all of the data***\n"
   ]
  },
  {
   "cell_type": "code",
   "execution_count": null,
   "metadata": {},
   "outputs": [],
   "source": [
    "# create a variable  to keep track of which result you are in. \n",
    "cur = 0\n",
    "\n",
    "#set up a while loop to go through and grab the result \n",
    "while cur < num and cur < 1000:\n",
    "    #set the offset parameter to be where you currently are in the results \n",
    "    url_params['offset'] = cur\n",
    "    #make your API call with the new offset number\n",
    "    results = yelp_call(url_params, api_key)\n",
    "    \n",
    "    #after you get your results you can now use your function to parse those results\n",
    "    parsed_results = parse_results(results)\n",
    "    \n",
    "    # use your function to insert your parsed results into the db\n",
    "    data_save(parsed_results)\n",
    "    #increment the counter by 50 to move on to the next results\n",
    "    cur += 50"
   ]
  },
  {
   "cell_type": "code",
   "execution_count": null,
   "metadata": {},
   "outputs": [],
   "source": []
  }
 ],
 "metadata": {
  "kernelspec": {
   "display_name": "Python 3",
   "language": "python",
   "name": "python3"
  },
  "language_info": {
   "codemirror_mode": {
    "name": "ipython",
    "version": 3
   },
   "file_extension": ".py",
   "mimetype": "text/x-python",
   "name": "python",
   "nbconvert_exporter": "python",
   "pygments_lexer": "ipython3",
   "version": "3.7.6"
  },
  "toc": {
   "base_numbering": 1,
   "nav_menu": {},
   "number_sections": false,
   "sideBar": true,
   "skip_h1_title": false,
   "title_cell": "Table of Contents",
   "title_sidebar": "Contents",
   "toc_cell": false,
   "toc_position": {},
   "toc_section_display": true,
   "toc_window_display": false
  }
 },
 "nbformat": 4,
 "nbformat_minor": 2
}
